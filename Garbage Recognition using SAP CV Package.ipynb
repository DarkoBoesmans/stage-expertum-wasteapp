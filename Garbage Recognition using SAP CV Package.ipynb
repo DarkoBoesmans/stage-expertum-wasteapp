{
 "cells": [
  {
   "cell_type": "code",
   "execution_count": null,
   "id": "bc9094cb-e927-4d4e-8e7a-bfd93dfbd387",
   "metadata": {},
   "outputs": [],
   "source": [
    "from ai_core_sdk.ai_core_v2_client import AICoreV2Client\n",
    "import json\n",
    "import requests\n",
    "\n",
    "# Your service key JSON file relative to this notebook\n",
    "waste_app_ai_core_key_path = 'waste_app_ai_core_key.json'\n",
    "\n",
    "# Loads the service key file\n",
    "with open(waste_app_ai_core_key_path) as ask:\n",
    "    waste_app_ai_core_key = json.load(ask)\n",
    "\n",
    "# Get credentials from the service key\n",
    "uaa_url = waste_app_ai_core_key[\"url\"]\n",
    "clientid = waste_app_ai_core_key[\"clientid\"]\n",
    "clientsecret = waste_app_ai_core_key[\"clientsecret\"]\n",
    "ai_api_url = waste_app_ai_core_key[\"serviceurls\"][\"AI_API_URL\"]\n",
    "\n",
    "# Get OAuth token directly\n",
    "params = {\"grant_type\": \"client_credentials\"}\n",
    "resp = requests.post(f\"{uaa_url}/oauth/token\",\n",
    "                    auth=(clientid, clientsecret),\n",
    "                    params=params)\n",
    "token = resp.json()[\"access_token\"]\n",
    "print(\"✅ Successfully obtained OAuth token\")\n",
    "\n",
    "# Create or verify resource group\n",
    "resource_group = \"default\"  # Change this to your preferred resource group name\n",
    "url = ai_api_url + '/v2/admin/resourceGroups'\n",
    "payload = json.dumps({\n",
    "    \"resourceGroupId\": resource_group\n",
    "})\n",
    "headers = {\n",
    "    'Content-Type': 'application/json',\n",
    "    'Authorization': f'Bearer {token}'\n",
    "}\n",
    "\n",
    "print(f\"Attempting to create resource group: {resource_group}\")\n",
    "response = requests.request(\"POST\", url, headers=headers, data=payload)\n",
    "print(f\"Response status: {response.status_code}\")\n",
    "print(f\"Response body: {response.text}\")\n",
    "\n",
    "# If successful or if resource group already exists, we can continue with the client\n",
    "if response.status_code == 201 or response.status_code == 409:  # Created or Already Exists\n",
    "    print(f\"✅ Resource group '{resource_group}' is ready to use\")\n",
    "else:\n",
    "    print(\"⚠️ Could not create resource group. Check response for details.\")\n",
    "\n",
    "# Creating an AI API client instance with the verified resource group\n",
    "aicore_client = AICoreV2Client(\n",
    "    base_url = ai_api_url + \"/v2\",  # The present AI API version is 2\n",
    "    auth_url = uaa_url + \"/oauth/token\",\n",
    "    client_id = clientid,\n",
    "    client_secret = clientsecret\n",
    ")\n",
    "\n",
    "print(f\"AI Core client initialized. Default resource group: {resource_group}\")"
   ]
  },
  {
   "cell_type": "code",
   "execution_count": null,
   "id": "33651332",
   "metadata": {},
   "outputs": [],
   "source": [
    "aicore_client.scenario.query('default').count"
   ]
  }
 ],
 "metadata": {
  "kernelspec": {
   "display_name": "sap_cv_env",
   "language": "python",
   "name": "python3"
  },
  "language_info": {
   "codemirror_mode": {
    "name": "ipython",
    "version": 3
   },
   "file_extension": ".py",
   "mimetype": "text/x-python",
   "name": "python",
   "nbconvert_exporter": "python",
   "pygments_lexer": "ipython3",
   "version": "3.9.22"
  }
 },
 "nbformat": 4,
 "nbformat_minor": 5
}
