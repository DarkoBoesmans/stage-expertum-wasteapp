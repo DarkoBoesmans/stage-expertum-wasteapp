{
 "cells": [
  {
   "cell_type": "code",
   "execution_count": 1,
   "id": "3e1ace8a-e2b4-4981-8ff1-9838df45bfa4",
   "metadata": {},
   "outputs": [
    {
     "name": "stdout",
     "output_type": "stream",
     "text": [
      "Hi, printed using python\n"
     ]
    }
   ],
   "source": [
    "print(\"Hi, printed using python\")"
   ]
  },
  {
   "cell_type": "code",
   "execution_count": 4,
   "id": "bc9094cb-e927-4d4e-8e7a-bfd93dfbd387",
   "metadata": {},
   "outputs": [
    {
     "ename": "ModuleNotFoundError",
     "evalue": "No module named 'sap'",
     "output_type": "error",
     "traceback": [
      "\u001b[0;31m---------------------------------------------------------------------------\u001b[0m",
      "\u001b[0;31mModuleNotFoundError\u001b[0m                       Traceback (most recent call last)",
      "Cell \u001b[0;32mIn[4], line 2\u001b[0m\n\u001b[1;32m      1\u001b[0m \u001b[38;5;66;03m# Second cell with fixes\u001b[39;00m\n\u001b[0;32m----> 2\u001b[0m \u001b[38;5;28;01mfrom\u001b[39;00m\u001b[38;5;250m \u001b[39m\u001b[38;5;21;01msap\u001b[39;00m\u001b[38;5;21;01m.\u001b[39;00m\u001b[38;5;21;01maibus\u001b[39;00m\u001b[38;5;21;01m.\u001b[39;00m\u001b[38;5;21;01maicore\u001b[39;00m\u001b[38;5;21;01m.\u001b[39;00m\u001b[38;5;21;01mclient\u001b[39;00m\u001b[38;5;21;01m.\u001b[39;00m\u001b[38;5;21;01mapi_v2\u001b[39;00m\u001b[38;5;250m \u001b[39m\u001b[38;5;28;01mimport\u001b[39;00m AICoreV2Client\n\u001b[1;32m      3\u001b[0m \u001b[38;5;28;01mimport\u001b[39;00m\u001b[38;5;250m \u001b[39m\u001b[38;5;21;01mjson\u001b[39;00m\n\u001b[1;32m      4\u001b[0m \u001b[38;5;28;01mimport\u001b[39;00m\u001b[38;5;250m \u001b[39m\u001b[38;5;21;01mos\u001b[39;00m\n",
      "\u001b[0;31mModuleNotFoundError\u001b[0m: No module named 'sap'"
     ]
    }
   ],
   "source": [
    "# Second cell with fixes\n",
    "from sap.aibus.aicore.client.api_v2 import AICoreV2Client\n",
    "import json\n",
    "import os\n",
    "\n",
    "# Your service key JSON file relative to this notebook\n",
    "aic_service_key_path = 'waste-app-ai-core-key.json'\n",
    "\n",
    "# Check if file exists, otherwise provide guidance\n",
    "if not os.path.exists(aic_service_key_path):\n",
    "    raise FileNotFoundError(f\"Service key file '{aic_service_key_path}' not found. Please ensure you have the correct AI Core service key file.\")\n",
    "\n",
    "# Loads the service key file\n",
    "with open(aic_service_key_path) as ask:\n",
    "    aic_service_key = json.load(ask)\n",
    "\n",
    "# Creating an AI API client instance\n",
    "aicore_client = AICoreV2Client(\n",
    "    base_url = aic_service_key[\"serviceurls\"][\"AI_API_URL\"] + \"/v2\", # The present AI API version is 2\n",
    "    auth_url = aic_service_key[\"url\"] + \"/oauth/token\",\n",
    "    client_id = aic_service_key['clientid'],\n",
    "    client_secret = aic_service_key['clientsecret']\n",
    ")"
   ]
  },
  {
   "cell_type": "code",
   "execution_count": 3,
   "id": "fc589105-8349-4262-a253-14f976a2cf5d",
   "metadata": {},
   "outputs": [
    {
     "ename": "NameError",
     "evalue": "name 'aicore_client' is not defined",
     "output_type": "error",
     "traceback": [
      "\u001b[0;31m---------------------------------------------------------------------------\u001b[0m",
      "\u001b[0;31mNameError\u001b[0m                                 Traceback (most recent call last)",
      "Cell \u001b[0;32mIn[3], line 1\u001b[0m\n\u001b[0;32m----> 1\u001b[0m \u001b[43maicore_client\u001b[49m\u001b[38;5;241m.\u001b[39mscenario\u001b[38;5;241m.\u001b[39mquery(\u001b[38;5;124m'\u001b[39m\u001b[38;5;124mdefault\u001b[39m\u001b[38;5;124m'\u001b[39m)\u001b[38;5;241m.\u001b[39mcount\n",
      "\u001b[0;31mNameError\u001b[0m: name 'aicore_client' is not defined"
     ]
    }
   ],
   "source": [
    "aicore_client.scenario.query('default').count"
   ]
  },
  {
   "cell_type": "code",
   "execution_count": null,
   "id": "43c81ab1-7727-4907-a0b8-b6e48c23be73",
   "metadata": {},
   "outputs": [],
   "source": []
  }
 ],
 "metadata": {
  "kernelspec": {
   "display_name": "sap_cv_env",
   "language": "python",
   "name": "sap_cv_env"
  },
  "language_info": {
   "codemirror_mode": {
    "name": "ipython",
    "version": 3
   },
   "file_extension": ".py",
   "mimetype": "text/x-python",
   "name": "python",
   "nbconvert_exporter": "python",
   "pygments_lexer": "ipython3",
   "version": "3.9.22"
  }
 },
 "nbformat": 4,
 "nbformat_minor": 5
}
